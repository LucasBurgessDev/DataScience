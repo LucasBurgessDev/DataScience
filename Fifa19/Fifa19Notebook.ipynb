{
 "nbformat": 4,
 "nbformat_minor": 2,
 "metadata": {
  "language_info": {
   "name": "python",
   "codemirror_mode": {
    "name": "ipython",
    "version": 3
   },
   "version": "3.8.1-final"
  },
  "orig_nbformat": 2,
  "file_extension": ".py",
  "mimetype": "text/x-python",
  "name": "python",
  "npconvert_exporter": "python",
  "pygments_lexer": "ipython3",
  "version": 3,
  "kernelspec": {
   "name": "python3",
   "display_name": "Python 3"
  }
 },
 "cells": [
  {
   "cell_type": "code",
   "execution_count": null,
   "metadata": {},
   "outputs": [],
   "source": [
    "import pandas as pd\n",
    "import seaborn as sns\n",
    "import matplotlib.pyplot as plt\n",
    "import numpy as np\n",
    "workingfolder = \"/Users/esa2/Code/Personal/DataScience/DataScience/\"\n",
    "datafile = \"data.csv\"\n",
    "datafilepath = workingfolder+datafile\n",
    "%matplotlib inline\n",
    "df = pd.read_csv(datafilepath)\n",
    "df.head(7)"
   ]
  },
  {
   "cell_type": "code",
   "execution_count": null,
   "metadata": {},
   "outputs": [],
   "source": [
    "#del df[''] #deletes the column GKReflexes\n",
    "#df.head()\n",
    "plt.figure(figsize=(15,32))\n",
    "\n",
    "sns.countplot(y = df.Nationality,palette=\"Set2\") #Plot all the nations on Y Axis\n"
   ]
  },
  {
   "cell_type": "code",
   "execution_count": null,
   "metadata": {},
   "outputs": [],
   "source": [
    "plt.figure(figsize=(15,6))\n",
    "sns.countplot(x=\"Age\",data=df) "
   ]
  },
  {
   "cell_type": "code",
   "execution_count": null,
   "metadata": {},
   "outputs": [],
   "source": [
    "#weights\n",
    "a = 0.5\n",
    "b = 1\n",
    "c= 2\n",
    "d = 3\n",
    " \n",
    "#GoalKeeping Characterstics\n",
    "df['gk_Shot_Stopper'] = (b*df.Reactions + b*df.Composure + a*df.SprintSpeed + a*df.Strength + c*df.Jumping + b*df.GKPositioning + c*df.GKDiving + d*df.GKReflexes + b*df.GKHandling)/(2*a + 4*b + 2*c + 1*d)\n",
    "df['gk_Sweeper'] = (b*df.Reactions + b*df.Composure + b*df.SprintSpeed + a*df.ShortPassing + a*df.LongPassing + b*df.Jumping + b*df.GKPositioning + b*df.GKDiving + d*df.GKReflexes + b*df.GKHandling + d*df.GKKicking + c*df.Vision)/(2*a + 4*b + 3*c + 2*d)\n"
   ]
  },
  {
   "cell_type": "code",
   "execution_count": null,
   "metadata": {},
   "outputs": [],
   "source": [
    "\n",
    "plt.figure(figsize=(15,6))\n",
    " \n",
    "# Generate sequential data and plot\n",
    "sd = df.sort_values('gk_Shot_Stopper', ascending=False)[:5]\n",
    "x1 = np.array(list(sd['Name']))\n",
    "y1 = np.array(list(sd['gk_Shot_Stopper']))\n",
    "sns.barplot(x1, y1, palette= \"colorblind\")\n",
    "plt.ylabel(\"Shot Stopping Score\")"
   ]
  },
  {
   "cell_type": "code",
   "execution_count": null,
   "metadata": {},
   "outputs": [],
   "source": [
    "plt.figure(figsize=(15,6))\n",
    "sd = df.sort_values('gk_Sweeper', ascending=False)[:5]\n",
    "x2 = np.array(list(sd['Name']))\n",
    "y2 = np.array(list(sd['gk_Sweeper']))\n",
    "sns.barplot(x2, y2, palette= \"colorblind\")\n",
    "plt.ylabel(\"Sweeping Score\")"
   ]
  },
  {
   "cell_type": "code",
   "execution_count": null,
   "metadata": {},
   "outputs": [],
   "source": []
  }
 ]
}